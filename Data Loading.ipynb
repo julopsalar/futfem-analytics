{
 "cells": [
  {
   "cell_type": "code",
   "execution_count": 1,
   "id": "6715d3ae-3bb4-48d7-9e2f-cc6e879e4769",
   "metadata": {},
   "outputs": [],
   "source": [
    "from xPoints import *\n",
    "\n",
    "import argparse\n",
    "import json\n",
    "import time\n",
    "\n",
    "# Database connection\n",
    "import sqlalchemy\n",
    "\n",
    "def create_db_connection(args):\n",
    "    \"\"\"\n",
    "    Creates a connection to the database specified in args\n",
    "    :return: Returns the active connection\n",
    "    \"\"\"\n",
    "    username = args['username']\n",
    "    password = args['password']\n",
    "    server = args['server']\n",
    "    database = args['database']\n",
    "\n",
    "    engine = sqlalchemy.create_engine(\n",
    "        f'mssql+pyodbc://{username}:{password}@{server}/{database}?driver=SQL Server&Trusted_Connection=yes')\n",
    "    conn = engine.connect()\n",
    "    return conn\n",
    "\n",
    "\n",
    "def check_existing_data(conn, table_name, dataframe, colnames):\n",
    "    \"\"\"\n",
    "    Compares existing and new data and filters new rows to append to the database\n",
    "    :param: conn -> DB conexion\n",
    "    :param: table_name\n",
    "    :param: dataframe -> new data obtained\n",
    "    :param: colnames -> columns to compare\n",
    "    :return: a dataframe with the non-existing data\n",
    "    \"\"\"\n",
    "    try:\n",
    "        data = pd.read_sql_table(table_name=table_name, con=conn)\n",
    "\n",
    "        new = dataframe[colnames]\n",
    "        old = data[colnames]\n",
    "        # Indexes that arent in old data\n",
    "        new_indexes = (new.index[~new.apply(tuple, 1).isin(old.apply(tuple, 1))].tolist())\n",
    "        join = dataframe.iloc[new_indexes]\n",
    "    except Exception as e:\n",
    "        # Table not created...\n",
    "        print(f'{e}')\n",
    "        join = dataframe\n",
    "\n",
    "    return join\n",
    "\n",
    "\n",
    "\n",
    "def update_table(connection, table_name, data, colnames):\n",
    "    \"\"\"\n",
    "    Discards old data and inserts the new into the SQL Server\n",
    "    \"\"\"\n",
    "    new_data = check_existing_data(connection, table_name, data, colnames)\n",
    "    new_data.to_sql(table_name, connection, if_exists='append', index=False)\n",
    "\n",
    "    return new_data"
   ]
  },
  {
   "cell_type": "code",
   "execution_count": 2,
   "id": "cb682d0f-b9c7-42fa-ac8d-397b9199cbc3",
   "metadata": {},
   "outputs": [
    {
     "name": "stdout",
     "output_type": "stream",
     "text": [
      "Table Match not found\n",
      "(306, 17)\n",
      "Table PlayerStats not found\n",
      "(1328, 78)\n",
      "Table GoalkeepingStats not found\n",
      "(106, 34)\n"
     ]
    }
   ],
   "source": [
    "# Create connection from db file info\n",
    "db_file = 'db.json'\n",
    "with open(db_file) as db:\n",
    "    connection = create_db_connection(json.load(db))\n",
    "\n",
    "matches = pd.read_csv('datasets/matches.csv')\n",
    "matches = update_table(connection, 'Match', matches, ['Match_id'])\n",
    "\n",
    "print(matches.shape)\n",
    "players = pd.read_csv('datasets/all_players.csv')\n",
    "players = update_table(connection, 'PlayerStats', players, ['Player_id', 'Squad_id'])\n",
    "print(players.shape)\n",
    "\n",
    "goalkeepers = pd.read_csv('datasets/gk_players.csv')\n",
    "goalkeepers = update_table(connection, 'GoalkeepingStats', goalkeepers, ['Player_id', 'Squad_id'])\n",
    "print(goalkeepers.shape)"
   ]
  },
  {
   "cell_type": "code",
   "execution_count": null,
   "id": "c21dad1d-e944-41e2-a178-c4b222c66ca7",
   "metadata": {},
   "outputs": [],
   "source": []
  },
  {
   "cell_type": "code",
   "execution_count": null,
   "id": "fd88bc32-6bcb-4284-92aa-78705a6be39e",
   "metadata": {},
   "outputs": [],
   "source": []
  },
  {
   "cell_type": "code",
   "execution_count": null,
   "id": "46542dac-c74d-4efe-99c8-271ef2cfdd21",
   "metadata": {},
   "outputs": [],
   "source": []
  },
  {
   "cell_type": "code",
   "execution_count": null,
   "id": "29dd5679-2c3a-4cad-8a5e-490620e7b681",
   "metadata": {},
   "outputs": [],
   "source": []
  },
  {
   "cell_type": "code",
   "execution_count": null,
   "id": "b4cae094-6302-4843-bc2a-60791fd9bf26",
   "metadata": {},
   "outputs": [],
   "source": []
  }
 ],
 "metadata": {
  "kernelspec": {
   "display_name": "Python 3 (ipykernel)",
   "language": "python",
   "name": "python3"
  },
  "language_info": {
   "codemirror_mode": {
    "name": "ipython",
    "version": 3
   },
   "file_extension": ".py",
   "mimetype": "text/x-python",
   "name": "python",
   "nbconvert_exporter": "python",
   "pygments_lexer": "ipython3",
   "version": "3.10.8"
  }
 },
 "nbformat": 4,
 "nbformat_minor": 5
}
