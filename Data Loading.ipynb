{
 "cells": [
  {
   "cell_type": "code",
   "execution_count": 1,
   "id": "6715d3ae-3bb4-48d7-9e2f-cc6e879e4769",
   "metadata": {},
   "outputs": [],
   "source": [
    "# Database connection\n",
    "import sqlalchemy\n",
    "import json\n",
    "import pandas as pd\n",
    "\n",
    "def create_db_connection(args):\n",
    "    \"\"\"\n",
    "    Creates a connection to the database specified in args\n",
    "    :return: Returns the active connection\n",
    "    \"\"\"\n",
    "    username = args['username']\n",
    "    password = args['password']\n",
    "    server = args['server']\n",
    "    database = args['database']\n",
    "\n",
    "    engine = sqlalchemy.create_engine(\n",
    "        f'mssql+pyodbc://{username}:{password}@{server}/{database}?driver=SQL Server&Trusted_Connection=yes')\n",
    "    conn = engine.connect()\n",
    "    return conn\n",
    "\n",
    "\n",
    "def update_table(connection, table_name, data):\n",
    "    \"\"\"\n",
    "    Discards old data and inserts the new into the SQL Server\n",
    "    \"\"\"\n",
    "    data.to_sql(table_name, connection, if_exists='replace', index=False)\n",
    "\n",
    "    return data"
   ]
  },
  {
   "cell_type": "code",
   "execution_count": 2,
   "id": "cb682d0f-b9c7-42fa-ac8d-397b9199cbc3",
   "metadata": {},
   "outputs": [
    {
     "name": "stdout",
     "output_type": "stream",
     "text": [
      "(317, 17)\n",
      "(1332, 78)\n",
      "(106, 34)\n"
     ]
    }
   ],
   "source": [
    "# Create connection from db file info\n",
    "db_file = 'db.json'\n",
    "with open(db_file) as db:\n",
    "    connection = create_db_connection(json.load(db))\n",
    "\n",
    "matches = pd.read_csv('datasets/matches.csv')\n",
    "matches = update_table(connection, 'Match', matches)\n",
    "print(matches.shape)\n",
    "\n",
    "players = pd.read_csv('datasets/all_players.csv')\n",
    "players = update_table(connection, 'PlayerStats', players)\n",
    "print(players.shape)\n",
    "\n",
    "goalkeepers = pd.read_csv('datasets/gk_players.csv')\n",
    "goalkeepers = update_table(connection, 'GoalkeepingStats', goalkeepers)\n",
    "print(goalkeepers.shape)"
   ]
  },
  {
   "cell_type": "code",
   "execution_count": null,
   "id": "c21dad1d-e944-41e2-a178-c4b222c66ca7",
   "metadata": {},
   "outputs": [],
   "source": []
  }
 ],
 "metadata": {
  "kernelspec": {
   "display_name": "Python 3 (ipykernel)",
   "language": "python",
   "name": "python3"
  },
  "language_info": {
   "codemirror_mode": {
    "name": "ipython",
    "version": 3
   },
   "file_extension": ".py",
   "mimetype": "text/x-python",
   "name": "python",
   "nbconvert_exporter": "python",
   "pygments_lexer": "ipython3",
   "version": "3.10.8"
  }
 },
 "nbformat": 4,
 "nbformat_minor": 5
}
